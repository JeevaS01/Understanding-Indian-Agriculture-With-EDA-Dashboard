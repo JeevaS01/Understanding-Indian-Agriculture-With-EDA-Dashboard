{
 "cells": [
  {
   "cell_type": "code",
   "execution_count": 2,
   "id": "7ec3a377-1f33-43a7-96a4-20d01bfe41f5",
   "metadata": {},
   "outputs": [],
   "source": [
    "import pymysql\n",
    "import pandas as pd"
   ]
  },
  {
   "cell_type": "code",
   "execution_count": 3,
   "id": "efcadcb7-9c1d-41b6-b18a-8ead42aed445",
   "metadata": {},
   "outputs": [],
   "source": [
    "my_con=pymysql.connect(host='127.0.0.1',user='root',password='Jeevanick@91')\n",
    "cur=my_con.cursor()"
   ]
  },
  {
   "cell_type": "code",
   "execution_count": 4,
   "id": "a8fef4c2-c44b-465c-8174-4473c1e035a2",
   "metadata": {},
   "outputs": [
    {
     "data": {
      "text/plain": [
       "1"
      ]
     },
     "execution_count": 4,
     "metadata": {},
     "output_type": "execute_result"
    }
   ],
   "source": [
    "cur.execute('create database Agriculture')"
   ]
  },
  {
   "cell_type": "code",
   "execution_count": 5,
   "id": "4b04e69a-72b0-49b2-8eff-47a1227ae3ce",
   "metadata": {},
   "outputs": [
    {
     "data": {
      "text/plain": [
       "0"
      ]
     },
     "execution_count": 5,
     "metadata": {},
     "output_type": "execute_result"
    }
   ],
   "source": [
    "cur.execute('use Agriculture')"
   ]
  },
  {
   "cell_type": "code",
   "execution_count": null,
   "id": "f5a55d92-fa87-4a3c-8621-a6f6e97ccf74",
   "metadata": {},
   "outputs": [],
   "source": [
    "cur.execute(\"\"\"create table agri\n",
    "(ID int auto_increment primary key,\n",
    "Dist Code,\n",
    "Year,\n",
    "State Code,\n",
    "State Name,\n",
    "Dist Name,\n",
    "RICE AREA (1000 ha)\n",
    "RICE PRODUCTION (1000 tons)\t\n",
    "RICE YIELD (Kg per ha)\n",
    "WHEAT AREA (1000 ha)\n",
    "WHEAT PRODUCTION (1000 tons)\n",
    "WHEAT YIELD (Kg per ha)\n",
    "KHARIF SORGHUM AREA (1000 ha)\n",
    "KHARIF SORGHUM PRODUCTION (1000 tons)\n",
    "KHARIF SORGHUM YIELD (Kg per ha)\n",
    "RABI SORGHUM AREA (1000 ha)\n",
    "RABI SORGHUM PRODUCTION (1000 tons)\n",
    "RABI SORGHUM YIELD (Kg per ha)\n",
    "SORGHUM AREA (1000 ha)\n",
    "SORGHUM PRODUCTION (1000 tons)\n",
    "SORGHUM YIELD (Kg per ha)\n",
    "PEARL MILLET AREA (1000 ha)\n",
    "PEARL MILLET PRODUCTION (1000 tons)\n",
    "PEARL MILLET YIELD (Kg per ha)\n",
    "MAIZE AREA (1000 ha)\n",
    "MAIZE PRODUCTION (1000 tons)\n",
    "MAIZE YIELD (Kg per ha)\n",
    "FINGER MILLET AREA (1000 ha)\n",
    "FINGER MILLET PRODUCTION (1000 tons)\n",
    "FINGER MILLET YIELD (Kg per ha)\n",
    "BARLEY AREA (1000 ha)\n",
    "BARLEY PRODUCTION (1000 tons)\n",
    "BARLEY YIELD (Kg per ha)\n",
    "CHICKPEA AREA (1000 ha)\n",
    "CHICKPEA PRODUCTION (1000 tons)\n",
    "CHICKPEA YIELD (Kg per ha)\n",
    "PIGEONPEA AREA (1000 ha)\n",
    "PIGEONPEA PRODUCTION (1000 tons)\n",
    "PIGEONPEA YIELD (Kg per ha)\tMINOR PULSES AREA (1000 ha)\tMINOR PULSES PRODUCTION (1000 tons)\tMINOR PULSES YIELD (Kg per ha)\tGROUNDNUT AREA (1000 ha)\tGROUNDNUT PRODUCTION (1000 tons)\tGROUNDNUT YIELD (Kg per ha)\tSESAMUM AREA (1000 ha)\tSESAMUM PRODUCTION (1000 tons)\tSESAMUM YIELD (Kg per ha)\tRAPESEED AND MUSTARD AREA (1000 ha)\tRAPESEED AND MUSTARD PRODUCTION (1000 tons)\tRAPESEED AND MUSTARD YIELD (Kg per ha)\tSAFFLOWER AREA (1000 ha)\tSAFFLOWER PRODUCTION (1000 tons)\tSAFFLOWER YIELD (Kg per ha)\tCASTOR AREA (1000 ha)\tCASTOR PRODUCTION (1000 tons)\tCASTOR YIELD (Kg per ha)\tLINSEED AREA (1000 ha)\tLINSEED PRODUCTION (1000 tons)\tLINSEED YIELD (Kg per ha)\tSUNFLOWER AREA (1000 ha)\tSUNFLOWER PRODUCTION (1000 tons)\tSUNFLOWER YIELD (Kg per ha)\tSOYABEAN AREA (1000 ha)\tSOYABEAN PRODUCTION (1000 tons)\tSOYABEAN YIELD (Kg per ha)\tOILSEEDS AREA (1000 ha)\tOILSEEDS PRODUCTION (1000 tons)\tOILSEEDS YIELD (Kg per ha)\tSUGARCANE AREA (1000 ha)\tSUGARCANE PRODUCTION (1000 tons)\tSUGARCANE YIELD (Kg per ha)\tCOTTON AREA (1000 ha)\tCOTTON PRODUCTION (1000 tons)\tCOTTON YIELD (Kg per ha)\tFRUITS AREA (1000 ha)\tVEGETABLES AREA (1000 ha)\tFRUITS AND VEGETABLES AREA (1000 ha)\tPOTATOES AREA (1000 ha)\tONION AREA (1000 ha)\tFODDER AREA (1000 ha)\t\t\n",
    "\n",
    "\n",
    ")"
   ]
  }
 ],
 "metadata": {
  "kernelspec": {
   "display_name": "Python 3 (ipykernel)",
   "language": "python",
   "name": "python3"
  },
  "language_info": {
   "codemirror_mode": {
    "name": "ipython",
    "version": 3
   },
   "file_extension": ".py",
   "mimetype": "text/x-python",
   "name": "python",
   "nbconvert_exporter": "python",
   "pygments_lexer": "ipython3",
   "version": "3.13.5"
  }
 },
 "nbformat": 4,
 "nbformat_minor": 5
}
